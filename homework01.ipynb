{
 "cells": [
  {
   "cell_type": "markdown",
   "id": "9dd9acb3",
   "metadata": {},
   "source": [
    "### Домашнее задание к уроку 1<a class=\"anchor\" id=\"hw\"></a><center>"
   ]
  },
  {
   "cell_type": "markdown",
   "id": "b216614d",
   "metadata": {},
   "source": [
    "1. Подберите скорость обучения (eta) и количество итераций"
   ]
  },
  {
   "cell_type": "code",
   "execution_count": 2,
   "id": "dda05ca7",
   "metadata": {},
   "outputs": [],
   "source": [
    "import numpy as np\n",
    "import matplotlib.pyplot as plt\n",
    "from mpl_toolkits.mplot3d.axes3d import Axes3D"
   ]
  },
  {
   "cell_type": "code",
   "execution_count": 9,
   "id": "953ea2cb",
   "metadata": {},
   "outputs": [],
   "source": [
    "def calc_mse(y, y_pred):\n",
    "    err = np.mean((y - y_pred)**2)\n",
    "    return err"
   ]
  },
  {
   "cell_type": "code",
   "execution_count": 10,
   "id": "e3cf9e7b",
   "metadata": {},
   "outputs": [],
   "source": [
    "X = np.array([[ 1,  1],\n",
    "              [ 1,  1],\n",
    "              [ 1,  2],\n",
    "              [ 1,  5],\n",
    "              [ 1,  3],\n",
    "              [ 1,  0],\n",
    "              [ 1,  5],\n",
    "              [ 1, 10],\n",
    "              [ 1,  1],\n",
    "              [ 1,  2]])"
   ]
  },
  {
   "cell_type": "code",
   "execution_count": 14,
   "id": "fd2e5349",
   "metadata": {},
   "outputs": [],
   "source": [
    "y = [45, 55, 50, 55, 60, 35, 75, 80, 50, 60]"
   ]
  },
  {
   "cell_type": "code",
   "execution_count": 11,
   "id": "ff9bd7ca",
   "metadata": {},
   "outputs": [
    {
     "data": {
      "text/plain": [
       "array([0.87397849, 0.85039554])"
      ]
     },
     "execution_count": 11,
     "metadata": {},
     "output_type": "execute_result"
    }
   ],
   "source": [
    "W = np.random.normal(size=(X.shape[1]))\n",
    "W"
   ]
  },
  {
   "cell_type": "code",
   "execution_count": 141,
   "id": "375a7baf",
   "metadata": {},
   "outputs": [
    {
     "name": "stdout",
     "output_type": "stream",
     "text": [
      "Number of objects = 10        \n",
      "Learning rate = 0.05        \n",
      "Initial weights = [1.  0.5] \n",
      "\n",
      "Iteration #0: W_new = [ 6.4  19.35], MSE = 3047.75\n",
      "Iteration #10: W_new = [18.77319138  8.6270072 ], MSE = 398.58\n",
      "Iteration #20: W_new = [27.15289315  7.06014716], MSE = 207.1\n",
      "Iteration #30: W_new = [32.4241672   6.10426679], MSE = 124.63\n",
      "Iteration #40: W_new = [35.85213314  5.48265802], MSE = 86.53\n",
      "Iteration #50: W_new = [38.15155609  5.06569312], MSE = 67.79\n",
      "Iteration #60: W_new = [39.73790007  4.7780341 ], MSE = 58.04\n",
      "Iteration #70: W_new = [40.86051023  4.57446606], MSE = 52.69\n",
      "Iteration #80: W_new = [41.67349173  4.4270444 ], MSE = 49.62\n",
      "Iteration #90: W_new = [42.2746909  4.3180262], MSE = 47.78\n",
      "Iteration #100: W_new = [42.727794    4.23586294], MSE = 46.63\n",
      "Iteration #110: W_new = [43.07521157  4.17286412], MSE = 45.89\n",
      "Iteration #120: W_new = [43.34578807  4.12379924], MSE = 45.4\n",
      "Iteration #130: W_new = [43.55952748  4.08504089], MSE = 45.06\n",
      "Iteration #140: W_new = [43.73055537  4.05402762], MSE = 44.82\n",
      "Iteration #150: W_new = [43.8690146   4.02892018], MSE = 44.65\n",
      "Iteration #160: W_new = [43.9823022   4.00837722], MSE = 44.53\n",
      "Iteration #170: W_new = [44.0758912   3.99140629], MSE = 44.44\n",
      "Iteration #180: W_new = [44.15388587  3.97726316], MSE = 44.36\n",
      "Iteration #190: W_new = [44.21940291  3.96538266], MSE = 44.31\n",
      "Iteration #200: W_new = [44.27483692  3.95533056], MSE = 44.26\n",
      "Iteration #210: W_new = [44.32204803  3.94676955], MSE = 44.23\n",
      "Iteration #220: W_new = [44.36249605  3.93943492], MSE = 44.2\n",
      "Iteration #230: W_new = [44.39733771  3.93311693], MSE = 44.18\n",
      "Iteration #240: W_new = [44.42749793  3.92764784], MSE = 44.16\n",
      "Iteration #250: W_new = [44.45372252  3.92289241], MSE = 44.14\n",
      "Iteration #260: W_new = [44.47661773  3.91874072], MSE = 44.13\n",
      "Iteration #270: W_new = [44.49668006  3.91510272], MSE = 44.12\n",
      "Iteration #280: W_new = [44.51431902  3.91190417], MSE = 44.11\n",
      "Iteration #290: W_new = [44.5298746  3.9090834], MSE = 44.1\n",
      "Iteration #300: W_new = [44.54363088  3.90658891], MSE = 44.1\n",
      "Iteration #310: W_new = [44.55582661  3.90437741], MSE = 44.09\n",
      "Iteration #320: W_new = [44.56666354  3.9024123 ], MSE = 44.09\n",
      "Iteration #330: W_new = [44.57631309  3.9006625 ], MSE = 44.08\n",
      "Iteration #340: W_new = [44.5849216   3.89910148], MSE = 44.08\n",
      "Iteration #350: W_new = [44.59261455  3.89770648], MSE = 44.07\n",
      "Iteration #360: W_new = [44.59950005  3.8964579 ], MSE = 44.07\n",
      "Iteration #370: W_new = [44.60567159  3.89533879], MSE = 44.07\n",
      "Iteration #380: W_new = [44.61121033  3.89433442], MSE = 44.06\n",
      "Iteration #390: W_new = [44.61618698  3.89343199], MSE = 44.06\n"
     ]
    }
   ],
   "source": [
    "n = X.shape[0]\n",
    "\n",
    "eta = 0.05      #Изменено\n",
    "n_iter = 400    #Изменено\n",
    "\n",
    "\n",
    "W = np.array([1, 0.5])\n",
    "print(f'Number of objects = {n} \\\n",
    "       \\nLearning rate = {eta} \\\n",
    "       \\nInitial weights = {W} \\n')\n",
    "\n",
    "for i in range(n_iter):\n",
    "    y_pred = np.dot(X, W)\n",
    "    err = calc_mse(y, y_pred)\n",
    "    for k in range(W.shape[0]):\n",
    "        W[k] -= eta * (1/n * 2 * X[:, k] @ (y_pred - y))\n",
    "    if i % 10 == 0:\n",
    "        eta /= 1.1\n",
    "        print(f'Iteration #{i}: W_new = {W}, MSE = {round(err, 2)}')"
   ]
  },
  {
   "cell_type": "code",
   "execution_count": 142,
   "id": "ac1ba192",
   "metadata": {},
   "outputs": [
    {
     "data": {
      "image/png": "[encoded data removed]",
      "text/plain": [
       "<Figure size 432x288 with 1 Axes>"
      ]
     },
     "metadata": {
      "needs_background": "light"
     },
     "output_type": "display_data"
    }
   ],
   "source": [
    "y_pred_grad = X @ W\n",
    "plt.scatter(X[:, 1], y)\n",
    "plt.plot(X[:, 1], y_pred_grad, label='gradient descent', c='g')\n",
    "plt.legend()\n",
    "plt.show()"
   ]
  },
  {
   "cell_type": "markdown",
   "id": "53217e60",
   "metadata": {},
   "source": [
    "2*. В этом коде мы избавляемся от итераций по весам, но тут есть ошибка, исправьте ее"
   ]
  },
  {
   "cell_type": "code",
   "execution_count": 162,
   "id": "cc74ffd0",
   "metadata": {},
   "outputs": [],
   "source": [
    "n = X.shape[0]\n",
    "\n",
    "# eta = 1e-2 \n",
    "# n_iter = 100\n",
    "\n",
    "eta = 0.0018 \n",
    "n_iter = 400"
   ]
  },
  {
   "cell_type": "code",
   "execution_count": 163,
   "id": "b18abe64",
   "metadata": {},
   "outputs": [
    {
     "name": "stdout",
     "output_type": "stream",
     "text": [
      "Number of objects = 10        \n",
      "Learning rate = 0.0018        \n",
      "Initial weights = [1.  0.5] \n",
      "\n"
     ]
    }
   ],
   "source": [
    "W = np.array([1, 0.5])\n",
    "print(f'Number of objects = {n} \\\n",
    "       \\nLearning rate = {eta} \\\n",
    "       \\nInitial weights = {W} \\n')\n",
    "\n"
   ]
  },
  {
   "cell_type": "code",
   "execution_count": 164,
   "id": "13e9f0a4",
   "metadata": {},
   "outputs": [
    {
     "name": "stdout",
     "output_type": "stream",
     "text": [
      "Iteration #0: W_new = [1.6786 1.1786], MSE = 3047.75\n",
      "Iteration #10: W_new = [6.28205567 5.78205567], MSE = 1232.44\n",
      "Iteration #20: W_new = [8.46259402 7.96259402], MSE = 784.82\n",
      "Iteration #30: W_new = [9.49545885 8.99545885], MSE = 665.29\n",
      "Iteration #40: W_new = [9.98470031 9.48470031], MSE = 629.43\n",
      "Iteration #50: W_new = [10.21644138  9.71644138], MSE = 617.1\n",
      "Iteration #60: W_new = [10.32621115  9.82621115], MSE = 612.3\n",
      "Iteration #70: W_new = [10.37820627  9.87820627], MSE = 610.26\n",
      "Iteration #80: W_new = [10.40283502  9.90283502], MSE = 609.35\n",
      "Iteration #90: W_new = [10.41450102  9.91450102], MSE = 608.93\n",
      "Iteration #100: W_new = [10.4200269  9.9200269], MSE = 608.74\n",
      "Iteration #110: W_new = [10.42264437  9.92264437], MSE = 608.64\n",
      "Iteration #120: W_new = [10.4238842  9.9238842], MSE = 608.6\n",
      "Iteration #130: W_new = [10.42447147  9.92447147], MSE = 608.58\n",
      "Iteration #140: W_new = [10.42474965  9.92474965], MSE = 608.57\n",
      "Iteration #150: W_new = [10.42488142  9.92488142], MSE = 608.56\n",
      "Iteration #160: W_new = [10.42494383  9.92494383], MSE = 608.56\n",
      "Iteration #170: W_new = [10.42497339  9.92497339], MSE = 608.56\n",
      "Iteration #180: W_new = [10.4249874  9.9249874], MSE = 608.56\n",
      "Iteration #190: W_new = [10.42499403  9.92499403], MSE = 608.56\n",
      "Iteration #200: W_new = [10.42499717  9.92499717], MSE = 608.56\n",
      "Iteration #210: W_new = [10.42499866  9.92499866], MSE = 608.56\n",
      "Iteration #220: W_new = [10.42499937  9.92499937], MSE = 608.56\n",
      "Iteration #230: W_new = [10.4249997  9.9249997], MSE = 608.56\n",
      "Iteration #240: W_new = [10.42499986  9.92499986], MSE = 608.56\n",
      "Iteration #250: W_new = [10.42499993  9.92499993], MSE = 608.56\n",
      "Iteration #260: W_new = [10.42499997  9.92499997], MSE = 608.56\n",
      "Iteration #270: W_new = [10.42499998  9.92499998], MSE = 608.56\n",
      "Iteration #280: W_new = [10.42499999  9.92499999], MSE = 608.56\n",
      "Iteration #290: W_new = [10.425  9.925], MSE = 608.56\n",
      "Iteration #300: W_new = [10.425  9.925], MSE = 608.56\n",
      "Iteration #310: W_new = [10.425  9.925], MSE = 608.56\n",
      "Iteration #320: W_new = [10.425  9.925], MSE = 608.56\n",
      "Iteration #330: W_new = [10.425  9.925], MSE = 608.56\n",
      "Iteration #340: W_new = [10.425  9.925], MSE = 608.56\n",
      "Iteration #350: W_new = [10.425  9.925], MSE = 608.56\n",
      "Iteration #360: W_new = [10.425  9.925], MSE = 608.56\n",
      "Iteration #370: W_new = [10.425  9.925], MSE = 608.56\n",
      "Iteration #380: W_new = [10.425  9.925], MSE = 608.56\n",
      "Iteration #390: W_new = [10.425  9.925], MSE = 608.56\n"
     ]
    }
   ],
   "source": [
    "X_arr = X[:, 1]\n",
    "\n",
    "for i in range(n_iter):\n",
    "    y_pred = np.dot(X, W)\n",
    "    err = calc_mse(y, y_pred)\n",
    "\n",
    "#     for k in range(W.shape[0]):\n",
    "#         W[k] -= eta * (1/n * 2 * X[:, k] @ (y_pred - y))\n",
    "    # ИЗМЕНЕНИЯ добавлено [:, k] к X\n",
    "    W -= eta * (1/n * 2 * np.dot(X_arr, y_pred - y))\n",
    "    # ИЗМЕНЕНИЯ\n",
    "    #\n",
    "    if i % 10 == 0:\n",
    "        print(f'Iteration #{i}: W_new = {W}, MSE = {round(err,2)}')"
   ]
  },
  {
   "cell_type": "code",
   "execution_count": 165,
   "id": "6d5f66d7",
   "metadata": {},
   "outputs": [
    {
     "data": {
      "image/png": "[encoded data removed]",
      "text/plain": [
       "<Figure size 432x288 with 1 Axes>"
      ]
     },
     "metadata": {
      "needs_background": "light"
     },
     "output_type": "display_data"
    }
   ],
   "source": [
    "y_pred_grad = X @ W\n",
    "plt.scatter(X[:, 1], y)\n",
    "plt.plot(X[:, 1], y_pred_grad, label='gradient descent', c='g')\n",
    "plt.legend()\n",
    "plt.show()"
   ]
  },
  {
   "cell_type": "markdown",
   "id": "f0227d52",
   "metadata": {},
   "source": [
    "3*. Вместо того, чтобы задавать количество итераций, задайте другое условие останова алгоритма - когда веса перестают изменяться меньше определенного порога $\\epsilon$."
   ]
  },
  {
   "cell_type": "code",
   "execution_count": 170,
   "id": "d5c139c7",
   "metadata": {},
   "outputs": [
    {
     "name": "stdout",
     "output_type": "stream",
     "text": [
      "Number of objects = 10        \n",
      "Learning rate = 0.05        \n",
      "Initial weights = [1.  0.5] \n",
      "\n",
      "Iteration #0: W_new = [ 6.4  19.35], MSE = 3047.75\n",
      "Iteration #10: W_new = [18.77319138  8.6270072 ], MSE = 398.58\n",
      "Iteration #20: W_new = [27.15289315  7.06014716], MSE = 207.1\n",
      "Iteration #30: W_new = [32.4241672   6.10426679], MSE = 124.63\n",
      "Iteration #40: W_new = [35.85213314  5.48265802], MSE = 86.53\n",
      "Iteration #50: W_new = [38.15155609  5.06569312], MSE = 67.79\n",
      "Iteration #60: W_new = [39.73790007  4.7780341 ], MSE = 58.04\n",
      "Iteration #70: W_new = [40.86051023  4.57446606], MSE = 52.69\n",
      "Iteration #80: W_new = [41.67349173  4.4270444 ], MSE = 49.62\n",
      "Iteration #90: W_new = [42.2746909  4.3180262], MSE = 47.78\n",
      "Iteration #100: W_new = [42.727794    4.23586294], MSE = 46.63\n",
      "Iteration #110: W_new = [43.07521157  4.17286412], MSE = 45.89\n",
      "Iteration #120: W_new = [43.34578807  4.12379924], MSE = 45.4\n",
      "Iteration #130: W_new = [43.55952748  4.08504089], MSE = 45.06\n",
      "Iteration #140: W_new = [43.73055537  4.05402762], MSE = 44.82\n",
      "Iteration #150: W_new = [43.8690146   4.02892018], MSE = 44.65\n",
      "Iteration #160: W_new = [43.9823022   4.00837722], MSE = 44.53\n",
      "Iteration #170: W_new = [44.0758912   3.99140629], MSE = 44.44\n",
      "Iteration #180: W_new = [44.15388587  3.97726316], MSE = 44.36\n",
      "Iteration #190: W_new = [44.21940291  3.96538266], MSE = 44.31\n",
      "Iteration #200: W_new = [44.27483692  3.95533056], MSE = 44.26\n",
      "Iteration #210: W_new = [44.32204803  3.94676955], MSE = 44.23\n",
      "Iteration #220: W_new = [44.36249605  3.93943492], MSE = 44.2\n",
      "Iteration #230: W_new = [44.39733771  3.93311693], MSE = 44.18\n",
      "Iteration #240: W_new = [44.42749793  3.92764784], MSE = 44.16\n",
      "Iteration #250: W_new = [44.45372252  3.92289241], MSE = 44.14\n",
      "Iteration #260: W_new = [44.47661773  3.91874072], MSE = 44.13\n",
      "Iteration #270: W_new = [44.49668006  3.91510272], MSE = 44.12\n"
     ]
    }
   ],
   "source": [
    "n = X.shape[0]\n",
    "\n",
    "eta = 0.05      #Изменено\n",
    "n_iter = 400    #Изменено\n",
    "eps = 0.001\n",
    "\n",
    "W = np.array([1, 0.5])\n",
    "print(f'Number of objects = {n} \\\n",
    "       \\nLearning rate = {eta} \\\n",
    "       \\nInitial weights = {W} \\n')\n",
    "\n",
    "err_before = 0\n",
    "for i in range(n_iter):\n",
    "    y_pred = np.dot(X, W)\n",
    "    err = calc_mse(y, y_pred)\n",
    "    for k in range(W.shape[0]):\n",
    "        W[k] -= eta * (1/n * 2 * X[:, k] @ (y_pred - y))\n",
    "    if i % 10 == 0:\n",
    "        eta /= 1.1\n",
    "        print(f'Iteration #{i}: W_new = {W}, MSE = {round(err, 2)}')\n",
    "    if abs(err_before - err) <= eps:\n",
    "        break\n",
    "        \n",
    "    err_before = err    "
   ]
  },
  {
   "cell_type": "code",
   "execution_count": null,
   "id": "40f5e6a2",
   "metadata": {},
   "outputs": [],
   "source": []
  }
 ],
 "metadata": {
  "kernelspec": {
   "display_name": "Python 3",
   "language": "python",
   "name": "python3"
  },
  "language_info": {
   "codemirror_mode": {
    "name": "ipython",
    "version": 3
   },
   "file_extension": ".py",
   "mimetype": "text/x-python",
   "name": "python",
   "nbconvert_exporter": "python",
   "pygments_lexer": "ipython3",
   "version": "3.8.8"
  }
 },
 "nbformat": 4,
 "nbformat_minor": 5
}
