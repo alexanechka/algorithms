{
 "cells": [
  {
   "cell_type": "markdown",
   "id": "971bba75",
   "metadata": {},
   "source": [
    "### Домашнее задание к уроку 2<a class=\"anchor\" id=\"hw\"></a><center>"
   ]
  },
  {
   "cell_type": "code",
   "execution_count": 53,
   "id": "053fddc2",
   "metadata": {},
   "outputs": [],
   "source": [
    "import numpy as np\n",
    "import matplotlib.pyplot as plt\n",
    "from sklearn import datasets"
   ]
  },
  {
   "cell_type": "markdown",
   "id": "15ba8e19",
   "metadata": {},
   "source": [
    "__Задача:__ предсказание баллов ЕГЭ ученика"
   ]
  },
  {
   "cell_type": "code",
   "execution_count": 22,
   "id": "27ce9180",
   "metadata": {},
   "outputs": [],
   "source": [
    "X = np.array([[   1,    1,  500,    1],\n",
    "              [   1,    1,  700,    1],\n",
    "              [   1,    2,  750,    2],\n",
    "              [   1,    5,  600,    1],\n",
    "              [   1,    3, 1450,    2],\n",
    "              [   1,    0,  800,    1],\n",
    "              [   1,    5, 1500,    3],\n",
    "              [   1,   10, 2000,    3],\n",
    "              [   1,    1,  450,    1],\n",
    "              [   1,    2, 1000,    2]])"
   ]
  },
  {
   "cell_type": "code",
   "execution_count": 23,
   "id": "0986c728",
   "metadata": {},
   "outputs": [],
   "source": [
    "y = [45, 55, 50, 55, 60, 35, 75, 80, 50, 60]"
   ]
  },
  {
   "cell_type": "code",
   "execution_count": 27,
   "id": "0e5a2301",
   "metadata": {},
   "outputs": [],
   "source": [
    "def standard_scale(X):\n",
    "    mean = X.mean()\n",
    "    std = X.std()\n",
    "    return (X - mean) / std"
   ]
  },
  {
   "cell_type": "code",
   "execution_count": 28,
   "id": "1413fd19",
   "metadata": {},
   "outputs": [
    {
     "data": {
      "text/plain": [
       "array([[ 1.        , -0.70710678, -0.97958969, -0.89625816],\n",
       "       [ 1.        , -0.70710678, -0.56713087, -0.89625816],\n",
       "       [ 1.        , -0.35355339, -0.46401617,  0.38411064],\n",
       "       [ 1.        ,  0.70710678, -0.77336028, -0.89625816],\n",
       "       [ 1.        ,  0.        ,  0.97958969,  0.38411064],\n",
       "       [ 1.        , -1.06066017, -0.36090146, -0.89625816],\n",
       "       [ 1.        ,  0.70710678,  1.08270439,  1.66447944],\n",
       "       [ 1.        ,  2.47487373,  2.11385144,  1.66447944],\n",
       "       [ 1.        , -0.70710678, -1.08270439, -0.89625816],\n",
       "       [ 1.        , -0.35355339,  0.05155735,  0.38411064]])"
      ]
     },
     "execution_count": 28,
     "metadata": {},
     "output_type": "execute_result"
    }
   ],
   "source": [
    "X_st = X.copy().astype(np.float64)\n",
    "X_st[:, 1] = standard_scale(X_st[:, 1])\n",
    "X_st[:, 2] = standard_scale(X_st[:, 2])\n",
    "X_st[:, 3] = standard_scale(X_st[:, 3])\n",
    "\n",
    "X_st"
   ]
  },
  {
   "cell_type": "code",
   "execution_count": 30,
   "id": "bd02b44a",
   "metadata": {},
   "outputs": [
    {
     "name": "stdout",
     "output_type": "stream",
     "text": [
      "-4.163336342344337e-17\n",
      "0.9999999999999999\n"
     ]
    },
    {
     "data": {
      "image/png": "[encoded data removed]",
      "text/plain": [
       "<Figure size 432x288 with 1 Axes>"
      ]
     },
     "metadata": {
      "needs_background": "light"
     },
     "output_type": "display_data"
    }
   ],
   "source": [
    "print(np.mean(X_st[:, 2]))\n",
    "print(np.std(X_st[:, 2]))\n",
    "\n",
    "plt.hist(X_st[:, 2])\n",
    "plt.show()"
   ]
  },
  {
   "cell_type": "code",
   "execution_count": 31,
   "id": "7e6a708d",
   "metadata": {},
   "outputs": [],
   "source": [
    "def calc_mse(y, y_pred):\n",
    "    err = np.mean((y - y_pred)**2)\n",
    "    return err"
   ]
  },
  {
   "cell_type": "markdown",
   "id": "40bb17b6",
   "metadata": {},
   "source": [
    "1. Напишите функцию наподобие gradient_descent_reg_l2, но для применения L1-регуляризации."
   ]
  },
  {
   "cell_type": "code",
   "execution_count": 34,
   "id": "59464da0",
   "metadata": {},
   "outputs": [],
   "source": [
    "def gradient_descent_reg_l1(X, y, iterations, eta=1e-4, reg=1e-8):\n",
    "    W = np.random.randn(X.shape[1])\n",
    "    n = X.shape[0]\n",
    "    \n",
    "    for i in range(0, iterations):\n",
    "        y_pred = np.dot(X, W)\n",
    "        err = calc_mse(y, y_pred)\n",
    "        \n",
    "        dQ = 2/n * X.T @ (y_pred - y) # градиент функции ошибки\n",
    "# ******\n",
    "        dReg = reg * np.sign(W) # градиент регуляризации\n",
    "#         dReg = reg * W # градиент регуляризации\n",
    "# ******\n",
    "        \n",
    "        \n",
    "        W -= eta * (dQ + dReg)\n",
    "        \n",
    "        if i % (iterations / 10) == 0:\n",
    "            print(f'Iter: {i}, weights: {W}, error {err}')\n",
    "    \n",
    "    print(f'Final MSE: {calc_mse(y, np.dot(X, W))}')\n",
    "    return W"
   ]
  },
  {
   "cell_type": "code",
   "execution_count": 37,
   "id": "a09f6a36",
   "metadata": {},
   "outputs": [
    {
     "name": "stdout",
     "output_type": "stream",
     "text": [
      "Iter: 0, weights: [-0.65421135 -2.08768682 -0.20828876 -1.46123359], error 3521.5650732103436\n",
      "Iter: 2000, weights: [18.18991905  1.51695526  3.07095432  2.01990411], error 1526.5912246894793\n",
      "Iter: 4000, weights: [30.82101209  2.94913947  4.06685052  3.26334787], error 693.0762825287862\n",
      "Iter: 6000, weights: [39.28754824  3.59812002  4.26592031  3.722098  ], error 326.18374133693123\n",
      "Iter: 8000, weights: [44.96261011  3.95621952  4.19239588  3.90836655], error 162.08830198629886\n",
      "Iter: 10000, weights: [48.76656566  4.1988276   4.03075231  4.00224663], error 88.28047001344615\n",
      "Iter: 12000, weights: [51.31633132  4.38924341  3.8455422   4.06664568], error 54.95746315824321\n",
      "Iter: 14000, weights: [53.02542197  4.55103271  3.65902219  4.12317577], error 39.832769412144245\n",
      "Iter: 16000, weights: [54.17101387  4.69359676  3.47856056  4.17894335], error 32.90143555815894\n",
      "Iter: 18000, weights: [54.93889636  4.82121653  3.30631119  4.23600078], error 29.666927573486873\n",
      "Final MSE: 28.1068413969896\n"
     ]
    },
    {
     "data": {
      "text/plain": [
       "array([55.45339348,  4.936205  ,  3.1427051 ,  4.29464629])"
      ]
     },
     "execution_count": 37,
     "metadata": {},
     "output_type": "execute_result"
    }
   ],
   "source": [
    "gradient_descent_reg_l1(X_st, y, 20000)"
   ]
  },
  {
   "cell_type": "markdown",
   "id": "8e6a4fef",
   "metadata": {},
   "source": [
    "2. *Можно ли к одному и тому же признаку применить сразу и нормализацию, и стандартизацию?"
   ]
  },
  {
   "cell_type": "markdown",
   "id": "19f7fb5a",
   "metadata": {},
   "source": [
    "**Нормализация** заключается в приведении признаков к масштабу в диапазоне [0-1].\n",
    "\n",
    "**Стандартизация** заключается в получении своего рода значения сдвига каждого признака от среднего. Для ее реализации необходимо вычислить среднее значение признака"
   ]
  },
  {
   "cell_type": "code",
   "execution_count": 38,
   "id": "f684f899",
   "metadata": {},
   "outputs": [],
   "source": [
    "def min_max_scale(X):\n",
    "    return (X - X.min()) / (X.max() - X.min())"
   ]
  },
  {
   "cell_type": "code",
   "execution_count": 39,
   "id": "39111544",
   "metadata": {},
   "outputs": [],
   "source": [
    "def standard_scale(X):\n",
    "    mean = X.mean()\n",
    "    std = X.std()\n",
    "    return (X - mean) / std"
   ]
  },
  {
   "cell_type": "code",
   "execution_count": 41,
   "id": "e010bbd4",
   "metadata": {},
   "outputs": [
    {
     "data": {
      "text/plain": [
       "array([[1.00e+00, 1.00e+00, 5.00e+02, 1.00e+00],\n",
       "       [1.00e+00, 1.00e+00, 7.00e+02, 1.00e+00],\n",
       "       [1.00e+00, 2.00e+00, 7.50e+02, 2.00e+00],\n",
       "       [1.00e+00, 5.00e+00, 6.00e+02, 1.00e+00],\n",
       "       [1.00e+00, 3.00e+00, 1.45e+03, 2.00e+00],\n",
       "       [1.00e+00, 0.00e+00, 8.00e+02, 1.00e+00],\n",
       "       [1.00e+00, 5.00e+00, 1.50e+03, 3.00e+00],\n",
       "       [1.00e+00, 1.00e+01, 2.00e+03, 3.00e+00],\n",
       "       [1.00e+00, 1.00e+00, 4.50e+02, 1.00e+00],\n",
       "       [1.00e+00, 2.00e+00, 1.00e+03, 2.00e+00]])"
      ]
     },
     "execution_count": 41,
     "metadata": {},
     "output_type": "execute_result"
    }
   ],
   "source": [
    "X1 = X.copy().astype('float')\n",
    "X1"
   ]
  },
  {
   "cell_type": "code",
   "execution_count": 43,
   "id": "0051668a",
   "metadata": {},
   "outputs": [
    {
     "data": {
      "text/plain": [
       "array([[1.00e+00, 5.00e+02, 1.00e+00],\n",
       "       [1.00e+00, 7.00e+02, 1.00e+00],\n",
       "       [2.00e+00, 7.50e+02, 2.00e+00],\n",
       "       [5.00e+00, 6.00e+02, 1.00e+00],\n",
       "       [3.00e+00, 1.45e+03, 2.00e+00],\n",
       "       [0.00e+00, 8.00e+02, 1.00e+00],\n",
       "       [5.00e+00, 1.50e+03, 3.00e+00],\n",
       "       [1.00e+01, 2.00e+03, 3.00e+00],\n",
       "       [1.00e+00, 4.50e+02, 1.00e+00],\n",
       "       [2.00e+00, 1.00e+03, 2.00e+00]])"
      ]
     },
     "execution_count": 43,
     "metadata": {},
     "output_type": "execute_result"
    }
   ],
   "source": [
    "X1[:, 1:]"
   ]
  },
  {
   "cell_type": "code",
   "execution_count": 46,
   "id": "f3fe5b95",
   "metadata": {},
   "outputs": [
    {
     "data": {
      "text/plain": [
       "array([[5.00e-04, 2.50e-01, 5.00e-04],\n",
       "       [5.00e-04, 3.50e-01, 5.00e-04],\n",
       "       [1.00e-03, 3.75e-01, 1.00e-03],\n",
       "       [2.50e-03, 3.00e-01, 5.00e-04],\n",
       "       [1.50e-03, 7.25e-01, 1.00e-03],\n",
       "       [0.00e+00, 4.00e-01, 5.00e-04],\n",
       "       [2.50e-03, 7.50e-01, 1.50e-03],\n",
       "       [5.00e-03, 1.00e+00, 1.50e-03],\n",
       "       [5.00e-04, 2.25e-01, 5.00e-04],\n",
       "       [1.00e-03, 5.00e-01, 1.00e-03]])"
      ]
     },
     "execution_count": 46,
     "metadata": {},
     "output_type": "execute_result"
    }
   ],
   "source": [
    "X_norm = min_max_scale(X1[:, 1:])\n",
    "X_norm"
   ]
  },
  {
   "cell_type": "code",
   "execution_count": 47,
   "id": "d26915cd",
   "metadata": {},
   "outputs": [
    {
     "data": {
      "text/plain": [
       "array([[-0.60601512,  0.32283164, -0.60601512],\n",
       "       [-0.60601512,  0.69511491, -0.60601512],\n",
       "       [-0.6041537 ,  0.78818573, -0.6041537 ],\n",
       "       [-0.59856945,  0.50897328, -0.60601512],\n",
       "       [-0.60229229,  2.09117718, -0.6041537 ],\n",
       "       [-0.60787654,  0.88125655, -0.60601512],\n",
       "       [-0.59856945,  2.184248  , -0.60229229],\n",
       "       [-0.58926237,  3.11495618, -0.60229229],\n",
       "       [-0.60601512,  0.22976083, -0.60601512],\n",
       "       [-0.6041537 ,  1.25353982, -0.6041537 ]])"
      ]
     },
     "execution_count": 47,
     "metadata": {},
     "output_type": "execute_result"
    }
   ],
   "source": [
    "X_norm_std = standard_scale(X_norm)\n",
    "X_norm_std"
   ]
  },
  {
   "cell_type": "code",
   "execution_count": 48,
   "id": "8758e3fe",
   "metadata": {},
   "outputs": [
    {
     "data": {
      "text/plain": [
       "array([[-0.60601512,  0.32283164, -0.60601512],\n",
       "       [-0.60601512,  0.69511491, -0.60601512],\n",
       "       [-0.6041537 ,  0.78818573, -0.6041537 ],\n",
       "       [-0.59856945,  0.50897328, -0.60601512],\n",
       "       [-0.60229229,  2.09117718, -0.6041537 ],\n",
       "       [-0.60787654,  0.88125655, -0.60601512],\n",
       "       [-0.59856945,  2.184248  , -0.60229229],\n",
       "       [-0.58926237,  3.11495618, -0.60229229],\n",
       "       [-0.60601512,  0.22976083, -0.60601512],\n",
       "       [-0.6041537 ,  1.25353982, -0.6041537 ]])"
      ]
     },
     "execution_count": 48,
     "metadata": {},
     "output_type": "execute_result"
    }
   ],
   "source": [
    "X_std = standard_scale(X1[:, 1:])\n",
    "X_std"
   ]
  },
  {
   "cell_type": "code",
   "execution_count": 49,
   "id": "a455c92c",
   "metadata": {},
   "outputs": [
    {
     "data": {
      "text/plain": [
       "array([[5.00e-04, 2.50e-01, 5.00e-04],\n",
       "       [5.00e-04, 3.50e-01, 5.00e-04],\n",
       "       [1.00e-03, 3.75e-01, 1.00e-03],\n",
       "       [2.50e-03, 3.00e-01, 5.00e-04],\n",
       "       [1.50e-03, 7.25e-01, 1.00e-03],\n",
       "       [0.00e+00, 4.00e-01, 5.00e-04],\n",
       "       [2.50e-03, 7.50e-01, 1.50e-03],\n",
       "       [5.00e-03, 1.00e+00, 1.50e-03],\n",
       "       [5.00e-04, 2.25e-01, 5.00e-04],\n",
       "       [1.00e-03, 5.00e-01, 1.00e-03]])"
      ]
     },
     "execution_count": 49,
     "metadata": {},
     "output_type": "execute_result"
    }
   ],
   "source": [
    "X_std_norm = min_max_scale(X_norm)\n",
    "X_std_norm"
   ]
  },
  {
   "cell_type": "code",
   "execution_count": 50,
   "id": "905640b0",
   "metadata": {},
   "outputs": [
    {
     "data": {
      "text/plain": [
       "array([[ True,  True,  True],\n",
       "       [ True,  True,  True],\n",
       "       [ True,  True,  True],\n",
       "       [ True,  True,  True],\n",
       "       [ True,  True,  True],\n",
       "       [ True,  True,  True],\n",
       "       [ True,  True,  True],\n",
       "       [ True,  True,  True],\n",
       "       [ True,  True,  True],\n",
       "       [ True,  True,  True]])"
      ]
     },
     "execution_count": 50,
     "metadata": {},
     "output_type": "execute_result"
    }
   ],
   "source": [
    "X_std_norm==X_norm"
   ]
  },
  {
   "cell_type": "markdown",
   "id": "6f966458",
   "metadata": {},
   "source": [
    "Применение и нормализации и стандартизации смысла не имеет, тк результат получится стандартизированным или нормализированным в зависимости от того, какое последнее действие применялось"
   ]
  },
  {
   "cell_type": "markdown",
   "id": "92ecbf95",
   "metadata": {},
   "source": [
    "3. *Сгенерируйте датасет при помощи sklearn.datasets.make_regression и обучите линейную модель при помощи градиентного и стохастического градиентного спуска. Нанесите среднеквадратичную ошибку для обоих методов на один график, сделайте выводы о разнице скорости сходимости каждого из методов."
   ]
  },
  {
   "cell_type": "code",
   "execution_count": 56,
   "id": "a12eda53",
   "metadata": {},
   "outputs": [
    {
     "data": {
      "text/plain": [
       "array([[23.94447414,  0.09866979, -0.08230335,  1.08684397,  0.33313156,\n",
       "        -0.24563563],\n",
       "       [-3.10720787,  0.921454  , -0.78711664, -1.29237081,  0.09521391,\n",
       "         0.76748414],\n",
       "       [-7.65635273, -1.21132525, -0.7657352 , -1.43740918, -1.06389903,\n",
       "         0.6312587 ],\n",
       "       ...,\n",
       "       [15.63148112,  0.36080703, -0.39625614, -1.39258246,  0.86324297,\n",
       "         0.3773388 ],\n",
       "       [-7.0332535 ,  0.93872439, -0.76435632, -0.76871467, -0.92984876,\n",
       "        -0.45655575],\n",
       "       [-2.33956667,  1.32441809, -0.93204802,  1.11278493,  0.35166652,\n",
       "        -0.72235735]])"
      ]
     },
     "metadata": {},
     "output_type": "display_data"
    },
    {
     "data": {
      "text/plain": [
       "array([  58.21333576,   85.86598167, -149.82372392, ...,   78.47459103,\n",
       "         20.22474186,   47.8893847 ])"
      ]
     },
     "metadata": {},
     "output_type": "display_data"
    },
    {
     "data": {
      "text/plain": [
       "array([29.48426144, 99.65600277, 49.17659377,  0.        ,  0.        ,\n",
       "       54.47326147])"
      ]
     },
     "metadata": {},
     "output_type": "display_data"
    }
   ],
   "source": [
    "# сгенерируем набор данных\n",
    "X, Y, coef = datasets.make_regression(n_samples=10000, n_features=6, n_informative=4, n_targets=1, \n",
    "                                      noise=5, coef=True, random_state=2)\n",
    "X[:, 0] *= 10\n",
    "display(X, Y, coef)"
   ]
  },
  {
   "cell_type": "code",
   "execution_count": 57,
   "id": "4a6ef27d",
   "metadata": {},
   "outputs": [],
   "source": [
    "X = standard_scale(X)"
   ]
  },
  {
   "cell_type": "code",
   "execution_count": 65,
   "id": "3d383257",
   "metadata": {},
   "outputs": [
    {
     "data": {
      "text/plain": [
       "array([-0.43706345, -1.08767303,  0.33684821, -0.52841549,  0.41417911,\n",
       "       -1.64718606])"
      ]
     },
     "execution_count": 65,
     "metadata": {},
     "output_type": "execute_result"
    }
   ],
   "source": [
    "init_W = np.random.randn(X.shape[1])\n",
    "init_W"
   ]
  },
  {
   "cell_type": "code",
   "execution_count": 66,
   "id": "8ad47bb1",
   "metadata": {},
   "outputs": [],
   "source": [
    "# стохастический градиентный спуск\n",
    "def stohastic_gradient_descent(X, y, iterations, size, eta=1e-4):\n",
    "    W = np.random.randn(X.shape[1])\n",
    "    n = X.shape[0]\n",
    "    \n",
    "    errors=[]\n",
    "    w_list = [W.copy()]\n",
    "    for i in range(0, iterations):\n",
    "        inds = np.random.randint(n, size=size)\n",
    "\n",
    "        X_tmp = X[inds, ]\n",
    "        y_tmp = np.array(y)[inds]\n",
    "\n",
    "\n",
    "        y_pred_tmp = np.dot(X_tmp, W)\n",
    "        dQ = 2/len(y_tmp) * X_tmp.T @ (y_pred_tmp - y_tmp) # градиент функции ошибки\n",
    "        W -= (eta * dQ)\n",
    "\n",
    "        err = calc_mse(y, np.dot(X, W))\n",
    "        errors.append(err)\n",
    "        w_list.append(W)\n",
    "        \n",
    "        if i % (iterations / 10) == 0:\n",
    "            print(f'Iter: {i}, weights: {W}, error {err}')\n",
    "    \n",
    "    print(f'Final MSE: {calc_mse(y, np.dot(X, W))}')\n",
    "    return W, errors, w_list"
   ]
  },
  {
   "cell_type": "code",
   "execution_count": 67,
   "id": "1e9f9c44",
   "metadata": {},
   "outputs": [],
   "source": [
    "# классический  GD\n",
    "def gradient_descent(X, y, iterations, eta=1e-4):\n",
    "    W = np.random.randn(X.shape[1])\n",
    "    n = X.shape[0]\n",
    "    \n",
    "    errors=[]\n",
    "    w_list = [W.copy()]\n",
    "    for i in range(0, iterations):\n",
    "        y_pred = np.dot(X, W)\n",
    "        err = calc_mse(y, y_pred)\n",
    "        dQ = 2/n * X.T @ (y_pred - y) # градиент функции ошибки\n",
    "        W -= (eta * dQ)\n",
    "        errors.append(err)\n",
    "        w_list.append(W)\n",
    "        \n",
    "        if i % (iterations / 10) == 0:\n",
    "            print(f'Iter: {i}, weights: {W}, error {err}')\n",
    "    print(f'Final MSE: {calc_mse(y, np.dot(X, W))}')\n",
    "    return W, errors, w_list"
   ]
  },
  {
   "cell_type": "code",
   "execution_count": null,
   "id": "c72d7d11",
   "metadata": {},
   "outputs": [],
   "source": []
  }
 ],
 "metadata": {
  "kernelspec": {
   "display_name": "Python 3",
   "language": "python",
   "name": "python3"
  },
  "language_info": {
   "codemirror_mode": {
    "name": "ipython",
    "version": 3
   },
   "file_extension": ".py",
   "mimetype": "text/x-python",
   "name": "python",
   "nbconvert_exporter": "python",
   "pygments_lexer": "ipython3",
   "version": "3.8.8"
  }
 },
 "nbformat": 4,
 "nbformat_minor": 5
}
