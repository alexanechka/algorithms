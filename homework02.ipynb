{
 "cells": [
  {
   "cell_type": "markdown",
   "id": "971bba75",
   "metadata": {},
   "source": [
    "### Домашнее задание к уроку 2<a class=\"anchor\" id=\"hw\"></a><center>"
   ]
  },
  {
   "cell_type": "code",
   "execution_count": 145,
   "id": "053fddc2",
   "metadata": {},
   "outputs": [],
   "source": [
    "import numpy as np\n",
    "import matplotlib.pyplot as plt\n",
    "from sklearn import datasets"
   ]
  },
  {
   "cell_type": "markdown",
   "id": "f93da876",
   "metadata": {},
   "source": [
    "__Задача:__ предсказание баллов ЕГЭ ученика"
   ]
  },
  {
   "cell_type": "code",
   "execution_count": 146,
   "id": "d9f46844",
   "metadata": {},
   "outputs": [],
   "source": [
    "X = np.array([[   1,    1,  500,    1],\n",
    "              [   1,    1,  700,    1],\n",
    "              [   1,    2,  750,    2],\n",
    "              [   1,    5,  600,    1],\n",
    "              [   1,    3, 1450,    2],\n",
    "              [   1,    0,  800,    1],\n",
    "              [   1,    5, 1500,    3],\n",
    "              [   1,   10, 2000,    3],\n",
    "              [   1,    1,  450,    1],\n",
    "              [   1,    2, 1000,    2]])"
   ]
  },
  {
   "cell_type": "code",
   "execution_count": 147,
   "id": "ce6f95e5",
   "metadata": {},
   "outputs": [],
   "source": [
    "y = [45, 55, 50, 55, 60, 35, 75, 80, 50, 60]"
   ]
  },
  {
   "cell_type": "code",
   "execution_count": 148,
   "id": "60c7e6bd",
   "metadata": {},
   "outputs": [],
   "source": [
    "def standard_scale(X):\n",
    "    mean = X.mean()\n",
    "    std = X.std()\n",
    "    return (X - mean) / std"
   ]
  },
  {
   "cell_type": "code",
   "execution_count": 149,
   "id": "fc4e31a3",
   "metadata": {},
   "outputs": [
    {
     "data": {
      "text/plain": [
       "array([[ 1.        , -0.70710678, -0.97958969, -0.89625816],\n",
       "       [ 1.        , -0.70710678, -0.56713087, -0.89625816],\n",
       "       [ 1.        , -0.35355339, -0.46401617,  0.38411064],\n",
       "       [ 1.        ,  0.70710678, -0.77336028, -0.89625816],\n",
       "       [ 1.        ,  0.        ,  0.97958969,  0.38411064],\n",
       "       [ 1.        , -1.06066017, -0.36090146, -0.89625816],\n",
       "       [ 1.        ,  0.70710678,  1.08270439,  1.66447944],\n",
       "       [ 1.        ,  2.47487373,  2.11385144,  1.66447944],\n",
       "       [ 1.        , -0.70710678, -1.08270439, -0.89625816],\n",
       "       [ 1.        , -0.35355339,  0.05155735,  0.38411064]])"
      ]
     },
     "execution_count": 149,
     "metadata": {},
     "output_type": "execute_result"
    }
   ],
   "source": [
    "X_st = X.copy().astype(np.float64)\n",
    "X_st[:, 1] = standard_scale(X_st[:, 1])\n",
    "X_st[:, 2] = standard_scale(X_st[:, 2])\n",
    "X_st[:, 3] = standard_scale(X_st[:, 3])\n",
    "\n",
    "X_st"
   ]
  },
  {
   "cell_type": "code",
   "execution_count": 150,
   "id": "6cddba4f",
   "metadata": {},
   "outputs": [
    {
     "name": "stdout",
     "output_type": "stream",
     "text": [
      "-4.163336342344337e-17\n",
      "0.9999999999999999\n"
     ]
    },
    {
     "data": {
      "image/png": "[encoded data removed]",
      "text/plain": [
       "<Figure size 432x288 with 1 Axes>"
      ]
     },
     "metadata": {
      "needs_background": "light"
     },
     "output_type": "display_data"
    }
   ],
   "source": [
    "print(np.mean(X_st[:, 2]))\n",
    "print(np.std(X_st[:, 2]))\n",
    "\n",
    "plt.hist(X_st[:, 2])\n",
    "plt.show()"
   ]
  },
  {
   "cell_type": "code",
   "execution_count": 151,
   "id": "36fdd205",
   "metadata": {},
   "outputs": [],
   "source": [
    "def calc_mse(y, y_pred):\n",
    "    err = np.mean((y - y_pred)**2)\n",
    "    return err"
   ]
  },
  {
   "cell_type": "markdown",
   "id": "40bb17b6",
   "metadata": {},
   "source": [
    "1. Напишите функцию наподобие gradient_descent_reg_l2, но для применения L1-регуляризации."
   ]
  },
  {
   "cell_type": "code",
   "execution_count": 152,
   "id": "59464da0",
   "metadata": {},
   "outputs": [],
   "source": [
    "def gradient_descent_reg_l1(X, y, iterations, eta=1e-4, reg=1e-8):\n",
    "    W = np.random.randn(X.shape[1])\n",
    "    n = X.shape[0]\n",
    "    \n",
    "    for i in range(0, iterations):\n",
    "        y_pred = np.dot(X, W)\n",
    "        err = calc_mse(y, y_pred)\n",
    "        \n",
    "        dQ = 2/n * X.T @ (y_pred - y) # градиент функции ошибки\n",
    "# ******\n",
    "        dReg = reg * np.sign(W) # градиент регуляризации\n",
    "#         dReg = reg * W # градиент регуляризации\n",
    "# ******\n",
    "        \n",
    "        \n",
    "        W -= eta * (dQ + dReg)\n",
    "        \n",
    "        if i % (iterations / 10) == 0:\n",
    "            print(f'Iter: {i}, weights: {W}, error {err}')\n",
    "    \n",
    "    print(f'Final MSE: {calc_mse(y, np.dot(X, W))}')\n",
    "    return W"
   ]
  },
  {
   "cell_type": "code",
   "execution_count": 153,
   "id": "a09f6a36",
   "metadata": {},
   "outputs": [
    {
     "name": "stdout",
     "output_type": "stream",
     "text": [
      "Iter: 0, weights: [ 0.11488472 -1.60877263  0.81412866  0.01100207], error 3359.603100860781\n",
      "Iter: 2000, weights: [18.70543894  1.43152602  3.41589962  2.7988275 ], error 1478.5689671336318\n",
      "Iter: 4000, weights: [31.16656158  2.69440399  4.16697677  3.7745654 ], error 674.7359187824811\n",
      "Iter: 6000, weights: [39.51916773  3.31016867  4.27493369  4.11822194], error 318.4506673317943\n",
      "Iter: 8000, weights: [45.11786309  3.6800819   4.16538038  4.24535481], error 158.74554445088378\n",
      "Iter: 10000, weights: [48.87063068  3.94771703  3.98786315  4.30170307], error 86.83671234192408\n",
      "Iter: 12000, weights: [51.38608539  4.16544041  3.79451034  4.33784526], error 54.33762886631824\n",
      "Iter: 14000, weights: [53.07217766  4.35322584  3.60311206  4.37086426], error 39.56448582317737\n",
      "Iter: 16000, weights: [54.20235389  4.51944485  3.41938952  4.40611095], error 32.777776961033204\n",
      "Iter: 18000, weights: [54.95990336  4.66822671  3.24485337  4.44487876], error 29.5986611292523\n",
      "Final MSE: 28.056708689267225\n"
     ]
    },
    {
     "data": {
      "text/plain": [
       "array([55.46747714,  4.80201018,  3.07965385,  4.48708191])"
      ]
     },
     "execution_count": 153,
     "metadata": {},
     "output_type": "execute_result"
    }
   ],
   "source": [
    "gradient_descent_reg_l1(X_st, y, 20000)"
   ]
  },
  {
   "cell_type": "markdown",
   "id": "8e6a4fef",
   "metadata": {},
   "source": [
    "2. *Можно ли к одному и тому же признаку применить сразу и нормализацию, и стандартизацию?"
   ]
  },
  {
   "cell_type": "markdown",
   "id": "19f7fb5a",
   "metadata": {},
   "source": [
    "**Нормализация** заключается в приведении признаков к масштабу в диапазоне [0-1].\n",
    "\n",
    "**Стандартизация** заключается в получении своего рода значения сдвига каждого признака от среднего. Для ее реализации необходимо вычислить среднее значение признака"
   ]
  },
  {
   "cell_type": "code",
   "execution_count": 154,
   "id": "a2bb56c1",
   "metadata": {},
   "outputs": [],
   "source": [
    "def min_max_scale(X):\n",
    "    return (X - X.min()) / (X.max() - X.min())"
   ]
  },
  {
   "cell_type": "code",
   "execution_count": 155,
   "id": "e7f81f19",
   "metadata": {},
   "outputs": [],
   "source": [
    "def standard_scale(X):\n",
    "    mean = X.mean()\n",
    "    std = X.std()\n",
    "    return (X - mean) / std"
   ]
  },
  {
   "cell_type": "code",
   "execution_count": 156,
   "id": "2f0f942d",
   "metadata": {},
   "outputs": [
    {
     "data": {
      "text/plain": [
       "array([[1.00e+00, 1.00e+00, 5.00e+02, 1.00e+00],\n",
       "       [1.00e+00, 1.00e+00, 7.00e+02, 1.00e+00],\n",
       "       [1.00e+00, 2.00e+00, 7.50e+02, 2.00e+00],\n",
       "       [1.00e+00, 5.00e+00, 6.00e+02, 1.00e+00],\n",
       "       [1.00e+00, 3.00e+00, 1.45e+03, 2.00e+00],\n",
       "       [1.00e+00, 0.00e+00, 8.00e+02, 1.00e+00],\n",
       "       [1.00e+00, 5.00e+00, 1.50e+03, 3.00e+00],\n",
       "       [1.00e+00, 1.00e+01, 2.00e+03, 3.00e+00],\n",
       "       [1.00e+00, 1.00e+00, 4.50e+02, 1.00e+00],\n",
       "       [1.00e+00, 2.00e+00, 1.00e+03, 2.00e+00]])"
      ]
     },
     "execution_count": 156,
     "metadata": {},
     "output_type": "execute_result"
    }
   ],
   "source": [
    "X1 = X.copy().astype('float')\n",
    "X1"
   ]
  },
  {
   "cell_type": "code",
   "execution_count": 157,
   "id": "59c5c505",
   "metadata": {},
   "outputs": [
    {
     "data": {
      "text/plain": [
       "array([[1.00e+00, 5.00e+02, 1.00e+00],\n",
       "       [1.00e+00, 7.00e+02, 1.00e+00],\n",
       "       [2.00e+00, 7.50e+02, 2.00e+00],\n",
       "       [5.00e+00, 6.00e+02, 1.00e+00],\n",
       "       [3.00e+00, 1.45e+03, 2.00e+00],\n",
       "       [0.00e+00, 8.00e+02, 1.00e+00],\n",
       "       [5.00e+00, 1.50e+03, 3.00e+00],\n",
       "       [1.00e+01, 2.00e+03, 3.00e+00],\n",
       "       [1.00e+00, 4.50e+02, 1.00e+00],\n",
       "       [2.00e+00, 1.00e+03, 2.00e+00]])"
      ]
     },
     "execution_count": 157,
     "metadata": {},
     "output_type": "execute_result"
    }
   ],
   "source": [
    "X1[:, 1:]"
   ]
  },
  {
   "cell_type": "code",
   "execution_count": 158,
   "id": "ca4df56c",
   "metadata": {},
   "outputs": [
    {
     "data": {
      "text/plain": [
       "array([[5.00e-04, 2.50e-01, 5.00e-04],\n",
       "       [5.00e-04, 3.50e-01, 5.00e-04],\n",
       "       [1.00e-03, 3.75e-01, 1.00e-03],\n",
       "       [2.50e-03, 3.00e-01, 5.00e-04],\n",
       "       [1.50e-03, 7.25e-01, 1.00e-03],\n",
       "       [0.00e+00, 4.00e-01, 5.00e-04],\n",
       "       [2.50e-03, 7.50e-01, 1.50e-03],\n",
       "       [5.00e-03, 1.00e+00, 1.50e-03],\n",
       "       [5.00e-04, 2.25e-01, 5.00e-04],\n",
       "       [1.00e-03, 5.00e-01, 1.00e-03]])"
      ]
     },
     "execution_count": 158,
     "metadata": {},
     "output_type": "execute_result"
    }
   ],
   "source": [
    "X_norm = min_max_scale(X1[:, 1:])\n",
    "X_norm"
   ]
  },
  {
   "cell_type": "code",
   "execution_count": 159,
   "id": "500589d1",
   "metadata": {},
   "outputs": [
    {
     "data": {
      "text/plain": [
       "array([[-0.60601512,  0.32283164, -0.60601512],\n",
       "       [-0.60601512,  0.69511491, -0.60601512],\n",
       "       [-0.6041537 ,  0.78818573, -0.6041537 ],\n",
       "       [-0.59856945,  0.50897328, -0.60601512],\n",
       "       [-0.60229229,  2.09117718, -0.6041537 ],\n",
       "       [-0.60787654,  0.88125655, -0.60601512],\n",
       "       [-0.59856945,  2.184248  , -0.60229229],\n",
       "       [-0.58926237,  3.11495618, -0.60229229],\n",
       "       [-0.60601512,  0.22976083, -0.60601512],\n",
       "       [-0.6041537 ,  1.25353982, -0.6041537 ]])"
      ]
     },
     "execution_count": 159,
     "metadata": {},
     "output_type": "execute_result"
    }
   ],
   "source": [
    "X_norm_std = standard_scale(X_norm)\n",
    "X_norm_std"
   ]
  },
  {
   "cell_type": "code",
   "execution_count": 160,
   "id": "97b21e6c",
   "metadata": {},
   "outputs": [
    {
     "data": {
      "text/plain": [
       "array([[-0.60601512,  0.32283164, -0.60601512],\n",
       "       [-0.60601512,  0.69511491, -0.60601512],\n",
       "       [-0.6041537 ,  0.78818573, -0.6041537 ],\n",
       "       [-0.59856945,  0.50897328, -0.60601512],\n",
       "       [-0.60229229,  2.09117718, -0.6041537 ],\n",
       "       [-0.60787654,  0.88125655, -0.60601512],\n",
       "       [-0.59856945,  2.184248  , -0.60229229],\n",
       "       [-0.58926237,  3.11495618, -0.60229229],\n",
       "       [-0.60601512,  0.22976083, -0.60601512],\n",
       "       [-0.6041537 ,  1.25353982, -0.6041537 ]])"
      ]
     },
     "execution_count": 160,
     "metadata": {},
     "output_type": "execute_result"
    }
   ],
   "source": [
    "X_std = standard_scale(X1[:, 1:])\n",
    "X_std"
   ]
  },
  {
   "cell_type": "code",
   "execution_count": 161,
   "id": "68b6c950",
   "metadata": {},
   "outputs": [
    {
     "data": {
      "text/plain": [
       "array([[5.00e-04, 2.50e-01, 5.00e-04],\n",
       "       [5.00e-04, 3.50e-01, 5.00e-04],\n",
       "       [1.00e-03, 3.75e-01, 1.00e-03],\n",
       "       [2.50e-03, 3.00e-01, 5.00e-04],\n",
       "       [1.50e-03, 7.25e-01, 1.00e-03],\n",
       "       [0.00e+00, 4.00e-01, 5.00e-04],\n",
       "       [2.50e-03, 7.50e-01, 1.50e-03],\n",
       "       [5.00e-03, 1.00e+00, 1.50e-03],\n",
       "       [5.00e-04, 2.25e-01, 5.00e-04],\n",
       "       [1.00e-03, 5.00e-01, 1.00e-03]])"
      ]
     },
     "execution_count": 161,
     "metadata": {},
     "output_type": "execute_result"
    }
   ],
   "source": [
    "X_std_norm = min_max_scale(X_norm)\n",
    "X_std_norm"
   ]
  },
  {
   "cell_type": "code",
   "execution_count": 162,
   "id": "118e1d2a",
   "metadata": {},
   "outputs": [
    {
     "data": {
      "text/plain": [
       "array([[ True,  True,  True],\n",
       "       [ True,  True,  True],\n",
       "       [ True,  True,  True],\n",
       "       [ True,  True,  True],\n",
       "       [ True,  True,  True],\n",
       "       [ True,  True,  True],\n",
       "       [ True,  True,  True],\n",
       "       [ True,  True,  True],\n",
       "       [ True,  True,  True],\n",
       "       [ True,  True,  True]])"
      ]
     },
     "execution_count": 162,
     "metadata": {},
     "output_type": "execute_result"
    }
   ],
   "source": [
    "X_std_norm==X_norm"
   ]
  },
  {
   "cell_type": "markdown",
   "id": "6f966458",
   "metadata": {},
   "source": [
    "Применение и нормализации и стандартизации смысла не имеет, тк результат получится стандартизированным или нормализированным в зависимости от того, какое последнее действие применялось"
   ]
  },
  {
   "cell_type": "markdown",
   "id": "92ecbf95",
   "metadata": {},
   "source": [
    "3. *Сгенерируйте датасет при помощи sklearn.datasets.make_regression и обучите линейную модель при помощи градиентного и стохастического градиентного спуска. Нанесите среднеквадратичную ошибку для обоих методов на один график, сделайте выводы о разнице скорости сходимости каждого из методов."
   ]
  },
  {
   "cell_type": "code",
   "execution_count": 163,
   "id": "a12eda53",
   "metadata": {},
   "outputs": [
    {
     "data": {
      "text/plain": [
       "array([[-10.89293056,   0.55609754,  -0.71060025, ...,   0.43956062,\n",
       "          1.62789802,   0.6188562 ],\n",
       "       [ -5.42495716,  -0.29380636,   0.84299441, ...,   0.14275829,\n",
       "         -0.40653759,   0.86998509],\n",
       "       [ -6.38082085,  -0.60122542,  -0.21593474, ...,  -0.01379034,\n",
       "         -0.39239515,  -0.29701154],\n",
       "       ...,\n",
       "       [-12.43758106,   0.15030009,  -2.10321051, ...,   0.89440859,\n",
       "          0.61249475,   1.4774436 ],\n",
       "       [  4.97267325,  -0.20015054,   1.56148143, ...,   0.17191426,\n",
       "         -0.29752836,   0.51136462],\n",
       "       [-13.72741722,  -0.23283667,   0.43545215, ...,  -0.2727552 ,\n",
       "         -2.40388697,   0.34618305]])"
      ]
     },
     "metadata": {},
     "output_type": "display_data"
    },
    {
     "data": {
      "text/plain": [
       "array([-130.5448    ,  153.49624534,  -90.06373758, ...,  137.87734551,\n",
       "        142.93907532, -232.22750103])"
      ]
     },
     "metadata": {},
     "output_type": "display_data"
    },
    {
     "data": {
      "text/plain": [
       "array([24.93745444,  0.        ,  0.        , 61.39971423, 33.25296241,\n",
       "       25.86645327,  0.        ,  0.        ,  0.        , 85.9657208 ,\n",
       "        0.        , 97.94215744,  0.        ,  8.41186494, 42.99043361])"
      ]
     },
     "metadata": {},
     "output_type": "display_data"
    }
   ],
   "source": [
    "# сгенерируем набор данных\n",
    "X, y, coef = datasets.make_regression(n_samples=100000, n_features=15, n_informative=8, n_targets=1, \n",
    "                                      noise=5, coef=True, random_state=2)\n",
    "X[:, 0] *= 10\n",
    "display(X, y, coef)"
   ]
  },
  {
   "cell_type": "code",
   "execution_count": 164,
   "id": "5949e35b",
   "metadata": {},
   "outputs": [],
   "source": [
    "X = standard_scale(X)"
   ]
  },
  {
   "cell_type": "code",
   "execution_count": 165,
   "id": "7f8bb2ca",
   "metadata": {},
   "outputs": [
    {
     "data": {
      "text/plain": [
       "array([-0.28585801,  0.67826867,  0.95664915,  0.40426528, -0.93576527,\n",
       "       -1.51028204,  0.1634278 , -0.52587832, -0.23517901,  0.72110528,\n",
       "        0.87759392, -0.37338573, -0.46447664,  0.05630141, -1.57365494])"
      ]
     },
     "execution_count": 165,
     "metadata": {},
     "output_type": "execute_result"
    }
   ],
   "source": [
    "init_W = np.random.randn(X.shape[1])\n",
    "init_W"
   ]
  },
  {
   "cell_type": "code",
   "execution_count": 175,
   "id": "1db35203",
   "metadata": {},
   "outputs": [],
   "source": [
    "# стохастический градиентный спуск\n",
    "def stohastic_gradient_descent(W, X, y, iterations, size, eta=1e-3):\n",
    "#     W = np.random.randn(X.shape[1])\n",
    "    n = X.shape[0]\n",
    "    \n",
    "    errors=[]\n",
    "    w_list = [W.copy()]\n",
    "    for i in range(0, iterations):\n",
    "        inds = np.random.randint(n, size=size)\n",
    "\n",
    "        X_tmp = X[inds, ]\n",
    "        y_tmp = np.array(y)[inds]\n",
    "\n",
    "\n",
    "        y_pred_tmp = np.dot(X_tmp, W)\n",
    "        dQ = 2/len(y_tmp) * X_tmp.T @ (y_pred_tmp - y_tmp) # градиент функции ошибки\n",
    "        W -= (eta * dQ)\n",
    "\n",
    "        err = calc_mse(y, np.dot(X, W))\n",
    "        errors.append(err)\n",
    "        w_list.append(W.copy())\n",
    "        \n",
    "        if i % (iterations / 10) == 0:\n",
    "            print(f'Iter: {i}, weights: {W}, error {err}')\n",
    "    \n",
    "    print(f'Final MSE: {calc_mse(y, np.dot(X, W))}')\n",
    "    return W, errors, w_list"
   ]
  },
  {
   "cell_type": "code",
   "execution_count": 186,
   "id": "40c72bfa",
   "metadata": {},
   "outputs": [],
   "source": [
    "# классический  GD\n",
    "def gradient_descent(W, X, y, iterations, eta=1e-3):\n",
    "#     W = np.random.randn(X.shape[1])\n",
    "    n = X.shape[0]\n",
    "    \n",
    "    errors=[]\n",
    "    w_list = [W.copy()]\n",
    "    for i in range(0, iterations):\n",
    "        y_pred = np.dot(X, W)\n",
    "        err = calc_mse(y, y_pred)\n",
    "        dQ = 2/n * X.T @ (y_pred - y) # градиент функции ошибки\n",
    "        W -= (eta * dQ)\n",
    "        errors.append(err)\n",
    "        w_list.append(W.copy())\n",
    "        \n",
    "        if i % (iterations / 10) == 0:\n",
    "            print(f'Iter: {i}, weights: {W}, error {err}')\n",
    "    print(f'Final MSE: {calc_mse(y, np.dot(X, W))}')\n",
    "    return W, errors, w_list"
   ]
  },
  {
   "cell_type": "code",
   "execution_count": 183,
   "id": "474d88e9",
   "metadata": {},
   "outputs": [
    {
     "name": "stdout",
     "output_type": "stream",
     "text": [
      "Iter: 0, weights: [ 6.95446692  0.69309493  1.12878864  9.10784732  3.56888213  2.22260714\n",
      "  0.24117694 -0.50763795 -0.24944382 13.065744    0.81604682 13.73972687\n",
      " -0.6427914   1.34896068  4.47190913], error 22149.73252738383\n",
      "Iter: 500, weights: [ 6.871985    0.69356352  1.15450561 11.21262789  4.69615876  3.13403715\n",
      "  0.25548508 -0.52070799 -0.25365636 16.00858899  0.82729357 17.12520489\n",
      " -0.65310277  1.65232467  5.98520505], error 21568.8101907336\n",
      "Iter: 1000, weights: [ 6.8499318   0.69391422  1.17934971 13.28963205  5.80897472  4.03336578\n",
      "  0.26935714 -0.53336322 -0.25773269 18.91266138  0.8380939  20.4657918\n",
      " -0.66305113  1.95148358  7.47833631], error 21003.280252824887\n",
      "Iter: 1500, weights: [ 6.84407654  0.69414578  1.20334513 15.33923794  6.90751522  4.92077364\n",
      "  0.28281594 -0.54559979 -0.26166969 21.77845458  0.84845877 23.76208504\n",
      " -0.67263407  2.24649269  8.95157587], error 20452.607874426536\n",
      "Iter: 2000, weights: [ 6.84256258  0.69426017  1.22651146 17.36181011  7.99196327  5.79642409\n",
      "  0.29587368 -0.5574232  -0.26546873 24.60646853  0.85839809 27.01467257\n",
      " -0.68185671  2.53740866 10.40518993], error 19916.393531056463\n",
      "Iter: 2500, weights: [ 6.8422116   0.69426015  1.24886683 19.35770596  9.06249953  6.66047437\n",
      "  0.30853957 -0.56884133 -0.26913234 27.39720004  0.86792137 30.22413417\n",
      " -0.69072611  2.82428792 11.8394403 ], error 19394.25690493484\n",
      "Iter: 3000, weights: [ 6.84217161  0.69414868  1.27042873 21.32727759 10.11930238  7.51307853\n",
      "  0.32082196 -0.57986258 -0.2726633  30.15114031  0.87703786 33.3910418\n",
      " -0.69924972  3.10718628 13.25458511], error 18885.828292602335\n",
      "Iter: 3500, weights: [ 6.84221425  0.69392872  1.29121424 23.27087229 11.16254789  8.35438832\n",
      "  0.33272882 -0.59049537 -0.27606443 32.8687743   0.88575665 36.51595981\n",
      " -0.707435    3.38615882 14.65087896], error 18390.747744935976\n",
      "Iter: 4000, weights: [ 6.84227831  0.69360316  1.31124012 25.18883271 12.19240989  9.18455339\n",
      "  0.34426795 -0.60074801 -0.27933852 35.55058067  0.89408663 39.59944506\n",
      " -0.71528934  3.66125988 16.02857305], error 17908.664769171228\n",
      "Iter: 4500, weights: [ 6.84234738  0.69317488  1.3305228  27.08149697 13.20905999 10.0037214\n",
      "  0.35544697 -0.6106287  -0.28248833 38.19703176  0.90203655 42.64204702\n",
      " -0.72281997  3.93254303 17.38791521], error 17439.238077513437\n",
      "Final MSE: 16982.13534513889\n",
      "Wall time: 34.7 s\n"
     ]
    }
   ],
   "source": [
    "%%time\n",
    "W, errors, w_list = gradient_descent(init_W, X, y, 5000, eta=1e-4)"
   ]
  },
  {
   "cell_type": "code",
   "execution_count": 187,
   "id": "fccbb49e",
   "metadata": {},
   "outputs": [
    {
     "name": "stdout",
     "output_type": "stream",
     "text": [
      "Iter: 0, weights: [ 6.38602109  0.66700838  1.44653706 30.8134595  15.25024134 11.55249916\n",
      "  0.38554951 -0.61604309 -0.35320601 43.38191398  1.08118084 48.40083557\n",
      " -0.75592455  4.48478328 20.07079121], error 16549.781323467756\n",
      "Iter: 500, weights: [ 5.87418429  0.4645699   1.37869208 32.71665527 16.11074555 12.50978169\n",
      "  0.51052447 -0.59053678 -0.23295699 45.72209025  1.09335689 51.54939219\n",
      " -0.37522843  4.96209982 21.71974589], error 16109.676730110748\n",
      "Iter: 1000, weights: [ 6.26629268  0.15578459  1.41402149 34.47197523 16.88997155 13.30101704\n",
      "  0.49883366 -0.82503246 -0.34420491 48.3297727   1.19355156 54.46816884\n",
      " -0.32289378  5.243557   23.27720747], error 15670.681409053643\n",
      "Iter: 1500, weights: [ 7.40369194 -0.21707145  1.16382884 36.02164644 17.81727828 14.12561402\n",
      "  0.38129474 -0.68678207 -0.38600389 50.87870736  1.29213217 57.4533929\n",
      " -0.36727715  5.59134757 24.30076967], error 15261.61513997867\n",
      "Iter: 2000, weights: [ 4.01813125 -0.06782933  1.01220401 38.07535876 18.97726284 14.88530214\n",
      "  0.3142124  -0.82270577 -0.361265   53.33476025  1.23366425 60.51073798\n",
      " -0.38011529  5.94570958 25.60065696], error 14931.572539623376\n",
      "Iter: 2500, weights: [ 7.15312953  0.09137958  0.81962044 39.94011491 19.76806861 15.77755258\n",
      "  0.06373294 -0.59352468 -0.25849082 55.57476753  1.35388347 63.44932144\n",
      " -0.44739784  6.42952592 27.03431034], error 14427.713461452151\n",
      "Iter: 3000, weights: [ 7.94416739e+00 -7.95028284e-02  8.38045499e-01  4.15631437e+01\n",
      "  2.08877713e+01  1.64285017e+01 -8.36672669e-02 -6.33810852e-01\n",
      "  1.33348423e-02  5.81497285e+01  1.51737576e+00  6.60011741e+01\n",
      " -4.67130440e-02  6.66002282e+00  2.83288200e+01], error 14063.030470923692\n",
      "Iter: 3500, weights: [ 6.47932123e+00  2.01683936e-02  8.28593941e-01  4.32966415e+01\n",
      "  2.16430132e+01  1.71325248e+01 -8.06986112e-02 -1.73652032e-01\n",
      " -2.59346174e-01  6.05003871e+01  1.48503934e+00  6.87910592e+01\n",
      " -1.25906593e-01  7.06442667e+00  2.95783724e+01], error 13674.541685504559\n",
      "Iter: 4000, weights: [ 7.29043945e+00  2.04869242e-02  9.57355518e-01  4.48579636e+01\n",
      "  2.24908208e+01  1.79492536e+01 -3.46311628e-01 -1.63461607e-01\n",
      " -1.17822986e-01  6.26402829e+01  1.51241021e+00  7.07699714e+01\n",
      " -2.36775590e-01  7.31641305e+00  3.03842605e+01], error 13372.253714475379\n",
      "Iter: 4500, weights: [ 8.17836728e+00 -1.94190565e-01  8.39109756e-01  4.63968386e+01\n",
      "  2.36819072e+01  1.86114934e+01 -5.31272968e-01 -1.67647222e-01\n",
      " -7.23398584e-02  6.49438232e+01  1.44476359e+00  7.31780037e+01\n",
      " -4.38895056e-01  7.47450401e+00  3.15881621e+01], error 13051.554244291294\n",
      "Final MSE: 12698.805017895405\n",
      "Wall time: 4.62 s\n"
     ]
    }
   ],
   "source": [
    "%%time\n",
    "W_s, errors_s, w_list_s = stohastic_gradient_descent(init_W, X, y, 5000, 1, eta=1e-4)"
   ]
  },
  {
   "cell_type": "code",
   "execution_count": 181,
   "id": "d52276c8",
   "metadata": {},
   "outputs": [
    {
     "data": {
      "image/png": "[encoded data removed]",
      "text/plain": [
       "<Figure size 432x288 with 1 Axes>"
      ]
     },
     "metadata": {
      "needs_background": "light"
     },
     "output_type": "display_data"
    }
   ],
   "source": [
    "# Визуализация\n",
    "plt.plot(range(len(errors)), errors, color ='r', label = 'gd')\n",
    "plt.plot(range(len(errors_s)), errors_s, color ='g', label = 'sgd')\n",
    "plt.title('MSE')\n",
    "plt.xlabel('Iteration number')\n",
    "plt.ylabel('MSE')\n",
    "plt.legend()\n",
    "plt.show()"
   ]
  },
  {
   "cell_type": "code",
   "execution_count": 171,
   "id": "d96f3f85",
   "metadata": {},
   "outputs": [],
   "source": [
    "w_list_arr = np.array(w_list)\n",
    "w_list_s_arr = np.array(w_list_s)"
   ]
  },
  {
   "cell_type": "code",
   "execution_count": 190,
   "id": "d63f1688",
   "metadata": {},
   "outputs": [
    {
     "data": {
      "image/png": "[encoded data removed]",
      "text/plain": [
       "<Figure size 432x288 with 1 Axes>"
      ]
     },
     "metadata": {
      "needs_background": "light"
     },
     "output_type": "display_data"
    }
   ],
   "source": [
    "# Визуализируем изменение весов (красной точкой обозначены истинные веса, сгенерированные вначале)\n",
    "# plt.figure(figsize=(15, 12))\n",
    "\n",
    "\n",
    "plt.title('Stochastic gradient descent vs Gradient descent')\n",
    "plt.xlabel(r'$w_1$')\n",
    "plt.ylabel(r'$w_2$')\n",
    "\n",
    "plt.scatter(w_list_arr[:, 0], w_list_arr[:, 1], color='r')\n",
    "plt.plot(w_list_arr[:, 0], w_list_arr[:, 1], color='r', label='gd')\n",
    "\n",
    "plt.scatter(w_list_s_arr[:, 0], w_list_s_arr[:, 1], color = 'g')\n",
    "plt.plot(w_list_s_arr[:, 0], w_list_s_arr[:, 1], color='g', label='sgd')\n",
    "\n",
    "# plt.scatter(coef[0], coef[1], c='b')\n",
    "plt.legend()\n",
    "plt.show()\n"
   ]
  },
  {
   "cell_type": "code",
   "execution_count": null,
   "id": "1bbfdde0",
   "metadata": {},
   "outputs": [],
   "source": []
  },
  {
   "cell_type": "code",
   "execution_count": null,
   "id": "445e803d",
   "metadata": {},
   "outputs": [],
   "source": []
  }
 ],
 "metadata": {
  "kernelspec": {
   "display_name": "Python 3",
   "language": "python",
   "name": "python3"
  },
  "language_info": {
   "codemirror_mode": {
    "name": "ipython",
    "version": 3
   },
   "file_extension": ".py",
   "mimetype": "text/x-python",
   "name": "python",
   "nbconvert_exporter": "python",
   "pygments_lexer": "ipython3",
   "version": "3.8.8"
  }
 },
 "nbformat": 4,
 "nbformat_minor": 5
}
